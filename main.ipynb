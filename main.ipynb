{
 "cells": [
  {
   "cell_type": "code",
   "execution_count": 1,
   "id": "5acccbd6",
   "metadata": {},
   "outputs": [
    {
     "data": {
      "text/plain": [
       "True"
      ]
     },
     "execution_count": 1,
     "metadata": {},
     "output_type": "execute_result"
    }
   ],
   "source": [
    "from dotenv import load_dotenv\n",
    "\n",
    "load_dotenv()"
   ]
  },
  {
   "cell_type": "code",
   "execution_count": 2,
   "id": "c403015b",
   "metadata": {},
   "outputs": [
    {
     "data": {
      "text/plain": [
       "8"
      ]
     },
     "execution_count": 2,
     "metadata": {},
     "output_type": "execute_result"
    }
   ],
   "source": [
    "import os\n",
    "os.cpu_count()\n"
   ]
  },
  {
   "cell_type": "code",
   "execution_count": 2,
   "id": "9c542247",
   "metadata": {},
   "outputs": [],
   "source": [
    "import base64\n",
    "import os\n",
    "from mistralai import Mistral\n",
    "\n",
    "def encode_pdf(pdf_path):\n",
    "    \"\"\"Encode the pdf to base64.\"\"\"\n",
    "    try:\n",
    "        with open(pdf_path, \"rb\") as pdf_file:\n",
    "            return base64.b64encode(pdf_file.read()).decode('utf-8')\n",
    "    except FileNotFoundError:\n",
    "        print(f\"Error: The file {pdf_path} was not found.\")\n",
    "        return None\n",
    "    except Exception as e:  # Added general exception handling\n",
    "        print(f\"Error: {e}\")\n",
    "        return None\n",
    "\n",
    "\n",
    "\n",
    "api_key = os.environ[\"MISTRAL_API_KEY\"]\n",
    "mistral_client = Mistral(api_key=api_key)\n",
    "\n"
   ]
  },
  {
   "cell_type": "code",
   "execution_count": 3,
   "id": "f48d7387",
   "metadata": {},
   "outputs": [],
   "source": [
    "from google import genai\n",
    "from google.genai import types\n",
    "\n",
    "google_client = genai.Client()"
   ]
  },
  {
   "cell_type": "code",
   "execution_count": 6,
   "id": "c7c9b2ca",
   "metadata": {},
   "outputs": [
    {
     "data": {
      "text/plain": [
       "{'day': 1, 'month': 1, 'year': 2022}"
      ]
     },
     "execution_count": 6,
     "metadata": {},
     "output_type": "execute_result"
    }
   ],
   "source": [
    "from google.genai import types\n",
    "from model_entities import Bill\n",
    "import json\n",
    "response = google_client.models.generate_content(\n",
    "    model='gemini-2.0-flash-001',\n",
    "    contents=types.Part.from_text(text='Why is the sky blue?'),\n",
    "    config=types.GenerateContentConfig(\n",
    "        temperature=0,\n",
    "        top_p=0.95,\n",
    "        top_k=20,\n",
    "        candidate_count=1,\n",
    "        seed=5,\n",
    "        max_output_tokens=10000,\n",
    "        stop_sequences=['STOP!'],\n",
    "        presence_penalty=0.0,\n",
    "        frequency_penalty=0.0,\n",
    "        response_mime_type='application/json',\n",
    "        response_schema=Bill,\n",
    "\n",
    "    ),\n",
    ")\n",
    "\n",
    "json.loads(response.text)[\"previous_date\"]"
   ]
  },
  {
   "cell_type": "code",
   "execution_count": null,
   "id": "962f3f83",
   "metadata": {},
   "outputs": [],
   "source": [
    "base64_pdf = encode_pdf(f\"tests/data/test1.pdf\")"
   ]
  },
  {
   "cell_type": "code",
   "execution_count": null,
   "id": "ce5237ac",
   "metadata": {},
   "outputs": [],
   "source": [
    "ocr_response = mistral_client.ocr.process(\n",
    "    model=\"mistral-ocr-latest\",\n",
    "    document={\n",
    "        \"type\": \"document_url\",\n",
    "        \"document_url\": f\"data:application/pdf;base64,{base64_pdf}\" \n",
    "    },\n",
    "    include_image_base64=True\n",
    ")\n",
    "\n"
   ]
  },
  {
   "cell_type": "code",
   "execution_count": null,
   "id": "d9416690",
   "metadata": {},
   "outputs": [],
   "source": [
    "content = \"\".join([page.markdown for page in ocr_response.pages ])"
   ]
  },
  {
   "cell_type": "code",
   "execution_count": null,
   "id": "e325078b",
   "metadata": {},
   "outputs": [
    {
     "data": {
      "text/plain": [
       "'# 001 Toronto\\n\\n**Revenue Services** **Box 6000** **Toronto, ON M2N 5V3**\\n\\n## Summary\\n\\nSummary of charges as of August 18, 2022 Payments received after August 18, 2022 are not reflected.\\n\\n|  |   |\\n| --- | --- |\\n|  **Previous Balance:** | $8,181.92  |\\n|  **Payment(s) received since Jul 21, 2022 - THANK YOU!** | -$8,181.92  |\\n|  **Total Adjustments (See \"Summary of Total Adjustments\" below)** | $59.02  |\\n|  **Balance:** | $59.02  |\\n\\n|  |   |\\n| --- | --- |\\n|  **Current Billing** |   |\\n|  **Water/Sewer Services:** | $8,830.65  |\\n|  **Solid Waste Management Services:** | $0.00  |\\n|  **Total** | $8,889.67  |\\n|  **Amount to be withdrawn on Sep 12, 2022** | $8,448.21  |\\n|  **Includes an early payment discount of $441.46** |   |\\n\\n## Water/Sewer Services\\n\\n|  |   |\\n| --- | --- |\\n|  **Total Water/Sewer Services - Current Billing** | $8,830.65  |\\n|  **Please see below for details:** |   |\\n\\n## Solid Waste Management Services\\n\\n|  |   |\\n| --- | --- |\\n|  **Total Solid Waste Management Services - Current Billing** | $0.00  |\\n\\nPage 1 of 2\\n\\n**Account No.:** 000588644\\n\\n**Client No.:** 000641811 05\\n\\n**Service Address:** 111 RAGLAN AVE\\n\\n**Property Owner:** BARNEY RIVER INVESTMENTS LIMITED 1180113 ONTARIO LIMITED\\n\\n**Accessible Bill Formats:** See message on reverse.\\n\\n**Messages:** Effective January 1, 2022, all residential customers are charged an annual fee of $20.34/dwelling for collection of oversized and metal items. Call 311 for more information.\\n\\nWater Consumption History (Cubic Metres m3)\\n\\n![img-0.jpeg](img-0.jpeg)\\n\\nCanada Post is retiring epost services. The last epost bill will be sent in September 2022 and account access will end in December 2022. Please ensure your mailing address is up to date as paper-based bills will be sent temporarily. For more information, visit toronto.ca/ebilling for future e-billing service updates.\\n\\n## PLEASE DO NOT SEND PAYMENT\\n\\n**Revenue Services** **Box 6000** **Toronto, ON M2N 5V3**\\n\\n|  |   |\\n| --- | --- |\\n|  000588644 | 000641811 05  |\\n|  **Account No.** | **Client No.**  |\\n|  111 RAGLAN AVE |   |\\n|  **Service Address** |   |\\n\\n**Revenue Services** **Box 6000** **Toronto, ON M2N 5V3**\\n\\n|  |   |\\n| --- | --- |\\n|  000641811 05 |   |\\n|  **Client No.** |   |\\n|  111 RAGLAN AVE |   |\\n|  **Service Address** |   |\\n\\n**Revenue Services** **000641811 05** **000641811 05**\\n\\n**000641811 05** **000641811 05**\\n\\n**000641811 05** **000641811 05**\\n\\n**000641811 05** **000641811 05**\\n\\n**000641811 05** **000641811 05**\\n\\n**000641811 05** **000641811 05**\\n\\n**000641811 05** **000641811 05**\\n\\n**000641811 05** **000641811 05**\\n\\n**000641811 05** **000641811 05**\\n\\n**000641811 05** **000641811 05**\\n\\n**000641811 05** **000641811 05**\\n\\n**000641811 05** **000641811 05**\\n\\n**000641811 05** **000641811 05**\\n\\n**000641811 05** **000641811 05**\\n\\n**000641811 05** **000641811 05**\\n\\n**000641811 05** **000641811 05**\\n\\n**000641811 05** **000641811 05**\\n\\n**000641811 05** **000641811 05**\\n\\n**000641811 05** **000641811 05**\\n\\n**000641811 05** **000641811 05**\\n\\n**000641811 05** **000641811 05**\\n\\n**000641811 05** **000641811 05**\\n\\n**000641811 05** **000641811 05**\\n\\n**000641811 05** **000641811 05**\\n\\n**000641811 05** **000641811 05**\\n\\n**000641811 05** **000641811 05**\\n\\n**000641811 05** **000641811 05**\\n\\n**000641811 05** **000641811 05**\\n\\n**000641811 05** **000641811 05**\\n\\n**000641811 05** **000641811 05**\\n\\n**000641811 05** **000641811 05**\\n\\n**000641811 05** **000641811 05**\\n\\n## PRE-AUTHORIZED PROGRAM INFORMATION\\n\\nDo not send payment. Amounts due are withdrawn automatically from your financial institution.\\n\\n## To Change Banking Information or to Cancel Enrolment\\n\\nRefer to Applications \\\\& Deadlines at toronto.ca/utilitybill to obtain a Change/Cancellation form.\\n\\n- Send in a written request or complete the Change/ Cancellation form at least 15 days before the next withdrawal date.\\n- Send a copy of void cheque for change of banking information. Line of credit accounts and credit card cheques are not accepted.\\n- When cancelling enrolment, pay any outstanding balance in full by the due date to avoid losing the early payment discount.\\nSubmit your request or completed form to:\\nMail to: City of Toronto\\nBox 2510, Terminal A\\nToronto, ON M5W 1H2\\nFax: $\\\\quad 416-696-4219$\\nFor tips on faxing, visit\\ntoronto.ca/propertytaxesandutilities.\\n\\n\\n## Final Meter Read\\n\\nA final meter read cancels enrolment in the pre-authorized payment program.\\nOnce a final meter read is processed, your enrolment in the program stops. You will receive a regular utility bill and payment must be made by one of the alternative payment options by the due date.\\n\\n## FEES AND CHARGES\\n\\nIf your pre-authorized payment does not clear through your financial institution/bank account, you will be charged an administrative fee and will lose your early payment discount. You will also be automatically removed from the Pre-Authorized Utility Payment Program and be returned to the regular payment plan. Payment must be made by one of the alternative payment options. Visit toronto.ca/utilitybill for bill payment options, information on utility bill fees, solid waste management fees and other associated charges.\\n\\n## RELIEF PROGRAMS\\n\\n## Property Tax, Water and Solid Waste\\n\\nFor low-income seniors and low-income persons with disabilities who own a residential property. Learn more at toronto.ca/taxandutilityrelief.\\n\\n## Home Dialysis Water Rebate Program\\n\\nFor persons undergoing home dialysis treatment. Find out more by visiting toronto.ca/utilitybill and refer to Utility Billing Cycle \\\\& Programs.\\n\\n## Home Healthcare Waste\\n\\nFree collection of dialysis medical waste. To learn how to apply go to toronto.ca/homehealthcarewaste for information.\\n\\n## CONTACT US\\n\\nCall 311 - Tax \\\\& Utility Inquiry Line\\nMonday to Friday 8:30 a.m. to 4:30 p.m.\\nCall within city limits: 311\\nCall outside city limits: 416-392-CITY (2489)\\nTTY: 416-338-0TTY (0889)\\nFAX: 416-696-3605\\nMAIL: City of Toronto, Revenue Services Correspondence Unit 5100 Yonge Street, Toronto, ON M2N 5V7\\nEMAIL: utilitybill@toronto.ca VISIT: toronto.ca/utilitybill For tips on sending fax or email, visit toronto.ca/propertytaxesandutilities.\\n\\n## Inquiry and Payment Counters\\n\\nIn-person counter services at civic centres and City Hall are available in accordance with public health guidelines. To find the hours of operation and locations visit toronto.ca/inquirypaymentcounters.\\n\\n## Tax \\\\& Utility Answers\\n\\nFind answers to your most commonly asked questions at toronto.ca/taxutilityanswers.\\n\\n## Water\\n\\nVisit toronto.ca/water or call 311 for the following:\\n\\n- report water-related emergencies (broken watermain)\\n- water supply problems (low pressure, rusty/discoloured water)\\n- receive water efficiency program information\\n\\n\\n## Solid Waste\\n\\nVisit toronto.ca/waste or call 311 to:\\n\\n- request a new organic bin, recycle bin or garbage bin\\n- exchange or repair an existing bin\\n- request a collection schedule\\n- receive information on solid waste programs\\n\\n\\n## Contact 311 for General Information\\n\\nInformation on City services and programs is available 24 hours a day, 7 days a week:\\n\\nCall within city limits: 311\\nCall outside city limits: 416-392-CITY (2489)\\nTTY: 416-338-0TTY (0889) FAX: 416-338-0685\\nEMAIL: 311@toronto.ca VISIT: toronto.ca/311\\nNon-emergency police matters, call 416-808-2222 or visit torontopolice.on.ca/core.\\nCall 911 for emergencies, where people or property are at immediate risk.# Water/Sewer Services\\n\\n|  Meter | Dial | Current Date | Current\\nReading | Previous\\nDate | Previous\\nReading | Consumption  |\\n| --- | --- | --- | --- | --- | --- | --- |\\n|  70267881 | Large | 07/31/2022 | 84213.45 | 06/30/2022 | 83401.82 | 811.63  |\\n|   | Small |  | 5993.42 |  | 4835.11 | 1158.31  |\\n|  Number of days this period: 31 |  |  |  | Total Consumption (m3): |  | 1969.94  |\\n\\n2022 Consumption: 1969.94 m3 X \\\\$4.4827/m3 = \\\\$8,830.65 Total Water/Sewer Services - Current Billing \\\\$8,830.65\\n\\n## Summary of Total Adjustments\\n\\n|  Date | Type | Amount  |\\n| --- | --- | --- |\\n|  Aug 18/22 | Processing Fee for Backflow Test Report | $\\\\$ 59.02$  |\\n|  Total |  | $\\\\$ 59.02$  |## PRE-AUTHORIZED PROGRAM INFORMATION\\n\\nDo not send payment. Amounts due are withdrawn automatically from your financial institution.\\n\\n## To Change Banking Information or to Cancel Enrolment\\n\\nRefer to Applications \\\\& Deadlines at toronto.ca/utilitybill to obtain a Change/Cancellation form.\\n\\n- Send in a written request or complete the Change/ Cancellation form at least 15 days before the next withdrawal date.\\n- Send a copy of void cheque for change of banking information. Line of credit accounts and credit card cheques are not accepted.\\n- When cancelling enrolment, pay any outstanding balance in full by the due date to avoid losing the early payment discount.\\nSubmit your request or completed form to:\\nMail to: City of Toronto\\nBox 2510, Terminal A\\nToronto, ON M5W 1H2\\nFax: $\\\\quad 416-696-4219$\\nFor tips on faxing, visit\\ntoronto.ca/propertytaxesandutilities.\\n\\n\\n## Final Meter Read\\n\\nA final meter read cancels enrolment in the pre-authorized payment program.\\nOnce a final meter read is processed, your enrolment in the program stops. You will receive a regular utility bill and payment must be made by one of the alternative payment options by the due date.\\n\\n## FEES AND CHARGES\\n\\nIf your pre-authorized payment does not clear through your financial institution/bank account, you will be charged an administrative fee and will lose your early payment discount. You will also be automatically removed from the Pre-Authorized Utility Payment Program and be returned to the regular payment plan. Payment must be made by one of the alternative payment options. Visit toronto.ca/utilitybill for bill payment options, information on utility bill fees, solid waste management fees and other associated charges.\\n\\n## RELIEF PROGRAMS\\n\\n## Property Tax, Water and Solid Waste\\n\\nFor low-income seniors and low-income persons with disabilities who own a residential property. Learn more at toronto.ca/taxandutilityrelief.\\n\\n## Home Dialysis Water Rebate Program\\n\\nFor persons undergoing home dialysis treatment. Find out more by visiting toronto.ca/utilitybill and refer to Utility Billing Cycle \\\\& Programs.\\n\\n## Home Healthcare Waste\\n\\nFree collection of dialysis medical waste. To learn how to apply go to toronto.ca/homehealthcarewaste for information.\\n\\n## CONTACT US\\n\\nCall 311 - Tax \\\\& Utility Inquiry Line\\nMonday to Friday 8:30 a.m. to 4:30 p.m.\\nCall within city limits: 311\\nCall outside city limits: 416-392-CITY (2489)\\nTTY: 416-338-0TTY (0889)\\nFAX: 416-696-3605\\nMAIL: City of Toronto, Revenue Services Correspondence Unit 5100 Yonge Street, Toronto, ON M2N 5V7\\nEMAIL: utilitybill@toronto.ca VISIT: toronto.ca/utilitybill For tips on sending fax or email, visit toronto.ca/propertytaxesandutilities.\\n\\n## Inquiry and Payment Counters\\n\\nIn-person counter services at civic centres and City Hall are available in accordance with public health guidelines. To find the hours of operation and locations visit toronto.ca/inquirypaymentcounters.\\n\\n## Tax \\\\& Utility Answers\\n\\nFind answers to your most commonly asked questions at toronto.ca/taxutilityanswers.\\n\\n## Water\\n\\nVisit toronto.ca/water or call 311 for the following:\\n\\n- report water-related emergencies (broken watermain)\\n- water supply problems (low pressure, rusty/discoloured water)\\n- receive water efficiency program information\\n\\n\\n## Solid Waste\\n\\nVisit toronto.ca/waste or call 311 to:\\n\\n- request a new organic bin, recycle bin or garbage bin\\n- exchange or repair an existing bin\\n- request a collection schedule\\n- receive information on solid waste programs\\n\\n\\n## Contact 311 for General Information\\n\\nInformation on City services and programs is available 24 hours a day, 7 days a week:\\n\\nCall within city limits: 311\\nCall outside city limits: 416-392-CITY (2489)\\nTTY: 416-338-0TTY (0889) FAX: 416-338-0685\\nEMAIL: 311@toronto.ca VISIT: toronto.ca/311\\nNon-emergency police matters, call 416-808-2222 or visit torontopolice.on.ca/core.\\nCall 911 for emergencies, where people or property are at immediate risk.'"
      ]
     },
     "execution_count": 19,
     "metadata": {},
     "output_type": "execute_result"
    }
   ],
   "source": [
    "content"
   ]
  },
  {
   "cell_type": "code",
   "execution_count": null,
   "id": "b7409ffa",
   "metadata": {},
   "outputs": [],
   "source": [
    "response = google_client.models.generate_content(\n",
    "    model='gemini-2.5-flash',\n",
    "    contents=types.Part.from_text(text=content),\n",
    "    config=types.GenerateContentConfig(\n",
    "        system_instruction='You are an expert information extractor. Your job is to extract bill information given the provided schema',\n",
    "        temperature=0,\n",
    "        top_p=0.95,\n",
    "        top_k=20,\n",
    "        candidate_count=1,\n",
    "        seed=5,\n",
    "        max_output_tokens=10000,\n",
    "        stop_sequences=['STOP!'],\n",
    "        presence_penalty=0.0,\n",
    "        frequency_penalty=0.0,\n",
    "        response_mime_type='application/json',\n",
    "        response_schema=Bill,\n",
    "\n",
    "    ),\n",
    ")"
   ]
  },
  {
   "cell_type": "code",
   "execution_count": null,
   "id": "4d3baf1a",
   "metadata": {},
   "outputs": [
    {
     "name": "stdout",
     "output_type": "stream",
     "text": [
      "{\"previous_date\":{\"day\":30,\"month\":6,\"year\":2022},\"current_date\":{\"day\":31,\"month\":7,\"year\":2022},\"consumption\":1969.94,\"total_bill\":8889.67,\"sewage\":null,\"bill_no\":\"000588644\"}\n"
     ]
    }
   ],
   "source": [
    "\n",
    "print(response.text)"
   ]
  },
  {
   "cell_type": "code",
   "execution_count": null,
   "id": "8168a190",
   "metadata": {},
   "outputs": [],
   "source": [
    "from pydantic import BaseModel, Field\n",
    "\n",
    "# BBOX Annotation response formats\n",
    "class Image(BaseModel):\n",
    "  image_type: str = Field(..., description=\"The type of the image.\")\n",
    "  short_description: str = Field(..., description=\"A description in english describing the image.\")\n",
    "  summary: str = Field(..., description=\"Summarize the image.\")"
   ]
  },
  {
   "cell_type": "code",
   "execution_count": null,
   "id": "5fecd164",
   "metadata": {},
   "outputs": [
    {
     "ename": "SDKError",
     "evalue": "API error occurred: Status 500\n{\"object\":\"error\",\"message\":\"Service unavailable.\",\"type\":\"internal_server_error\",\"param\":null,\"code\":\"3700\"}",
     "output_type": "error",
     "traceback": [
      "\u001b[31m---------------------------------------------------------------------------\u001b[39m",
      "\u001b[31mSDKError\u001b[39m                                  Traceback (most recent call last)",
      "\u001b[36mCell\u001b[39m\u001b[36m \u001b[39m\u001b[32mIn[63]\u001b[39m\u001b[32m, line 4\u001b[39m\n\u001b[32m      1\u001b[39m \u001b[38;5;28;01mfrom\u001b[39;00m\u001b[38;5;250m \u001b[39m\u001b[34;01mmistralai\u001b[39;00m\u001b[34;01m.\u001b[39;00m\u001b[34;01mextra\u001b[39;00m\u001b[38;5;250m \u001b[39m\u001b[38;5;28;01mimport\u001b[39;00m response_format_from_pydantic_model\n\u001b[32m      3\u001b[39m \u001b[38;5;66;03m# Client call\u001b[39;00m\n\u001b[32m----> \u001b[39m\u001b[32m4\u001b[39m response = \u001b[43mmistral_client\u001b[49m\u001b[43m.\u001b[49m\u001b[43mocr\u001b[49m\u001b[43m.\u001b[49m\u001b[43mprocess\u001b[49m\u001b[43m(\u001b[49m\n\u001b[32m      5\u001b[39m \u001b[43m    \u001b[49m\u001b[43mmodel\u001b[49m\u001b[43m=\u001b[49m\u001b[33;43m\"\u001b[39;49m\u001b[33;43mmistral-ocr-latest\u001b[39;49m\u001b[33;43m\"\u001b[39;49m\u001b[43m,\u001b[49m\n\u001b[32m      6\u001b[39m \u001b[43m    \u001b[49m\u001b[43mdocument\u001b[49m\u001b[43m=\u001b[49m\u001b[43m{\u001b[49m\n\u001b[32m      7\u001b[39m \u001b[43m        \u001b[49m\u001b[33;43m\"\u001b[39;49m\u001b[33;43mtype\u001b[39;49m\u001b[33;43m\"\u001b[39;49m\u001b[43m:\u001b[49m\u001b[43m \u001b[49m\u001b[33;43m\"\u001b[39;49m\u001b[33;43mdocument_url\u001b[39;49m\u001b[33;43m\"\u001b[39;49m\u001b[43m,\u001b[49m\n\u001b[32m      8\u001b[39m \u001b[43m        \u001b[49m\u001b[33;43m\"\u001b[39;49m\u001b[33;43mdocument_url\u001b[39;49m\u001b[33;43m\"\u001b[39;49m\u001b[43m:\u001b[49m\u001b[43m \u001b[49m\u001b[33;43mf\u001b[39;49m\u001b[33;43m\"\u001b[39;49m\u001b[33;43mdata:application/pdf;base64,\u001b[39;49m\u001b[38;5;132;43;01m{\u001b[39;49;00m\u001b[43mbase64_pdf\u001b[49m\u001b[38;5;132;43;01m}\u001b[39;49;00m\u001b[33;43m\"\u001b[39;49m\u001b[43m \u001b[49m\n\u001b[32m      9\u001b[39m \u001b[43m    \u001b[49m\u001b[43m}\u001b[49m\u001b[43m,\u001b[49m\n\u001b[32m     10\u001b[39m \u001b[43m    \u001b[49m\u001b[43mbbox_annotation_format\u001b[49m\u001b[43m=\u001b[49m\u001b[43mresponse_format_from_pydantic_model\u001b[49m\u001b[43m(\u001b[49m\u001b[43mImage\u001b[49m\u001b[43m)\u001b[49m\u001b[43m,\u001b[49m\n\u001b[32m     11\u001b[39m \u001b[43m    \u001b[49m\u001b[43minclude_image_base64\u001b[49m\u001b[43m=\u001b[49m\u001b[38;5;28;43;01mTrue\u001b[39;49;00m\n\u001b[32m     12\u001b[39m \u001b[43m  \u001b[49m\u001b[43m)\u001b[49m\n",
      "\u001b[36mFile \u001b[39m\u001b[32m~/development/work/bill-parser/.venv/lib/python3.13/site-packages/mistralai/ocr.py:134\u001b[39m, in \u001b[36mOcr.process\u001b[39m\u001b[34m(self, model, document, id, pages, include_image_base64, image_limit, image_min_size, bbox_annotation_format, document_annotation_format, retries, server_url, timeout_ms, http_headers)\u001b[39m\n\u001b[32m    132\u001b[39m \u001b[38;5;28;01mif\u001b[39;00m utils.match_response(http_res, \u001b[33m\"\u001b[39m\u001b[33m5XX\u001b[39m\u001b[33m\"\u001b[39m, \u001b[33m\"\u001b[39m\u001b[33m*\u001b[39m\u001b[33m\"\u001b[39m):\n\u001b[32m    133\u001b[39m     http_res_text = utils.stream_to_text(http_res)\n\u001b[32m--> \u001b[39m\u001b[32m134\u001b[39m     \u001b[38;5;28;01mraise\u001b[39;00m models.SDKError(\n\u001b[32m    135\u001b[39m         \u001b[33m\"\u001b[39m\u001b[33mAPI error occurred\u001b[39m\u001b[33m\"\u001b[39m, http_res.status_code, http_res_text, http_res\n\u001b[32m    136\u001b[39m     )\n\u001b[32m    138\u001b[39m content_type = http_res.headers.get(\u001b[33m\"\u001b[39m\u001b[33mContent-Type\u001b[39m\u001b[33m\"\u001b[39m)\n\u001b[32m    139\u001b[39m http_res_text = utils.stream_to_text(http_res)\n",
      "\u001b[31mSDKError\u001b[39m: API error occurred: Status 500\n{\"object\":\"error\",\"message\":\"Service unavailable.\",\"type\":\"internal_server_error\",\"param\":null,\"code\":\"3700\"}"
     ]
    }
   ],
   "source": [
    "from mistralai.extra import response_format_from_pydantic_model\n",
    "\n",
    "# Client call\n",
    "response = mistral_client.ocr.process(\n",
    "    model=\"mistral-ocr-latest\",\n",
    "    document={\n",
    "        \"type\": \"document_url\",\n",
    "        \"document_url\": f\"data:application/pdf;base64,{base64_pdf}\" \n",
    "    },\n",
    "    bbox_annotation_format=response_format_from_pydantic_model(Image),\n",
    "    include_image_base64=True\n",
    "  )\n",
    "\n"
   ]
  },
  {
   "cell_type": "code",
   "execution_count": null,
   "id": "3260fcb2",
   "metadata": {},
   "outputs": [
    {
     "data": {
      "text/plain": [
       "{'pages': [{'index': 0,\n",
       "   'markdown': '# 001 Toronto\\n\\n**Revenue Services** **Box 6000** **Toronto, ON M2N 5V3**\\n\\n## Summary\\n\\nSummary of charges as of August 18, 2022 Payments received after August 18, 2022 are not reflected.\\n\\n|  |   |\\n| --- | --- |\\n|  **Previous Balance:** | $8,181.92  |\\n|  **Payment(s) received since Jul 21, 2022 - THANK YOU!** | -$8,181.92  |\\n|  **Total Adjustments (See \"Summary of Total Adjustments\" below)** | $59.02  |\\n|  **Balance:** | $59.02  |\\n\\n|  |   |\\n| --- | --- |\\n|  **Current Billing** |   |\\n|  **Water/Sewer Services:** | $8,830.65  |\\n|  **Solid Waste Management Services:** | $0.00  |\\n|  **Total** | $8,889.67  |\\n|  **Amount to be withdrawn on Sep 12, 2022** | $8,448.21  |\\n|  **Includes an early payment discount of $441.46** |   |\\n\\n## Water/Sewer Services\\n\\n|  |   |\\n| --- | --- |\\n|  **Total Water/Sewer Services - Current Billing** | $8,830.65  |\\n|  **Please see below for details:** |   |\\n\\n## Solid Waste Management Services\\n\\n|  |   |\\n| --- | --- |\\n|  **Total Solid Waste Management Services - Current Billing** | $0.00  |\\n\\nPage 1 of 2\\n\\n**Account No.:** 000588644\\n\\n**Client No.:** 000641811 05\\n\\n**Service Address:** 111 RAGLAN AVE\\n\\n**Property Owner:** BARNEY RIVER INVESTMENTS LIMITED 1180113 ONTARIO LIMITED\\n\\n**Accessible Bill Formats:** See message on reverse.\\n\\n**Messages:** Effective January 1, 2022, all residential customers are charged an annual fee of $20.34/dwelling for collection of oversized and metal items. Call 311 for more information.\\n\\nWater Consumption History (Cubic Metres m3)\\n\\n![img-0.jpeg](img-0.jpeg)\\n\\nCanada Post is retiring epost services. The last epost bill will be sent in September 2022 and account access will end in December 2022. Please ensure your mailing address is up to date as paper-based bills will be sent temporarily. For more information, visit toronto.ca/ebilling for future e-billing service updates.\\n\\n## PLEASE DO NOT SEND PAYMENT\\n\\n**Revenue Services** **Box 6000** **Toronto, ON M2N 5V3**\\n\\n|  |   |\\n| --- | --- |\\n|  000588644 | 000641811 05  |\\n|  **Account No.** | **Client No.**  |\\n|  111 RAGLAN AVE |   |\\n|  **Service Address** |   |\\n\\n**Revenue Services** **Box 6000** **Toronto, ON M2N 5V3**\\n\\n|  |   |\\n| --- | --- |\\n|  000641811 05 |   |\\n|  **Client No.** |   |\\n|  111 RAGLAN AVE |   |\\n|  **Service Address** |   |\\n\\n**Revenue Services** **000641811 05** **000641811 05**\\n\\n**000641811 05** **000641811 05**\\n\\n**000641811 05** **000641811 05**\\n\\n**000641811 05** **000641811 05**\\n\\n**000641811 05** **000641811 05**\\n\\n**000641811 05** **000641811 05**\\n\\n**000641811 05** **000641811 05**\\n\\n**000641811 05** **000641811 05**\\n\\n**000641811 05** **000641811 05**\\n\\n**000641811 05** **000641811 05**\\n\\n**000641811 05** **000641811 05**\\n\\n**000641811 05** **000641811 05**\\n\\n**000641811 05** **000641811 05**\\n\\n**000641811 05** **000641811 05**\\n\\n**000641811 05** **000641811 05**\\n\\n**000641811 05** **000641811 05**\\n\\n**000641811 05** **000641811 05**\\n\\n**000641811 05** **000641811 05**\\n\\n**000641811 05** **000641811 05**\\n\\n**000641811 05** **000641811 05**\\n\\n**000641811 05** **000641811 05**\\n\\n**000641811 05** **000641811 05**\\n\\n**000641811 05** **000641811 05**\\n\\n**000641811 05** **000641811 05**\\n\\n**000641811 05** **000641811 05**\\n\\n**000641811 05** **000641811 05**\\n\\n**000641811 05** **000641811 05**\\n\\n**000641811 05** **000641811 05**\\n\\n**000641811 05** **000641811 05**\\n\\n**000641811 05** **000641811 05**\\n\\n**000641811 05** **000641811 05**\\n\\n**000641811 05** **000641811 05**\\n\\n',\n",
       "   'images': [{'id': 'img-0.jpeg',\n",
       "     'top_left_x': 1195,\n",
       "     'top_left_y': 1285,\n",
       "     'bottom_right_x': 1570,\n",
       "     'bottom_right_y': 1677,\n",
       "     'image_base64': 'data:image/jpeg;base64,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',\n",
       "     'image_annotation': '{\\n  \"previous_date\": {\\n    \"day\": 1,\\n    \"month\": 4,\\n    \"year\": 2021\\n  },\\n  \"current_date\": {\\n    \"day\": 30,\\n    \"month\": 5,\\n    \"year\": 2021\\n  },\\n  \"consumption\": 3916,\\n  \"total_bill\": 3916,\\n  \"sewage\": null,\\n  \"bill_no\": \"001\"\\n}'}],\n",
       "   'dimensions': {'dpi': 200, 'height': 2800, 'width': 1700}},\n",
       "  {'index': 1,\n",
       "   'markdown': '## PRE-AUTHORIZED PROGRAM INFORMATION\\n\\nDo not send payment. Amounts due are withdrawn automatically from your financial institution.\\n\\n## To Change Banking Information or to Cancel Enrolment\\n\\nRefer to Applications \\\\& Deadlines at toronto.ca/utilitybill to obtain a Change/Cancellation form.\\n\\n- Send in a written request or complete the Change/ Cancellation form at least 15 days before the next withdrawal date.\\n- Send a copy of void cheque for change of banking information. Line of credit accounts and credit card cheques are not accepted.\\n- When cancelling enrolment, pay any outstanding balance in full by the due date to avoid losing the early payment discount.\\nSubmit your request or completed form to:\\nMail to: City of Toronto\\nBox 2510, Terminal A\\nToronto, ON M5W 1H2\\nFax: $\\\\quad 416-696-4219$\\nFor tips on faxing, visit\\ntoronto.ca/propertytaxesandutilities.\\n\\n\\n## Final Meter Read\\n\\nA final meter read cancels enrolment in the pre-authorized payment program.\\nOnce a final meter read is processed, your enrolment in the program stops. You will receive a regular utility bill and payment must be made by one of the alternative payment options by the due date.\\n\\n## FEES AND CHARGES\\n\\nIf your pre-authorized payment does not clear through your financial institution/bank account, you will be charged an administrative fee and will lose your early payment discount. You will also be automatically removed from the Pre-Authorized Utility Payment Program and be returned to the regular payment plan. Payment must be made by one of the alternative payment options. Visit toronto.ca/utilitybill for bill payment options, information on utility bill fees, solid waste management fees and other associated charges.\\n\\n## RELIEF PROGRAMS\\n\\n## Property Tax, Water and Solid Waste\\n\\nFor low-income seniors and low-income persons with disabilities who own a residential property. Learn more at toronto.ca/taxandutilityrelief.\\n\\n## Home Dialysis Water Rebate Program\\n\\nFor persons undergoing home dialysis treatment. Find out more by visiting toronto.ca/utilitybill and refer to Utility Billing Cycle \\\\& Programs.\\n\\n## Home Healthcare Waste\\n\\nFree collection of dialysis medical waste. To learn how to apply go to toronto.ca/homehealthcarewaste for information.\\n\\n## CONTACT US\\n\\nCall 311 - Tax \\\\& Utility Inquiry Line\\nMonday to Friday 8:30 a.m. to 4:30 p.m.\\nCall within city limits: 311\\nCall outside city limits: 416-392-CITY (2489)\\nTTY: 416-338-0TTY (0889)\\nFAX: 416-696-3605\\nMAIL: City of Toronto, Revenue Services Correspondence Unit 5100 Yonge Street, Toronto, ON M2N 5V7\\nEMAIL: utilitybill@toronto.ca VISIT: toronto.ca/utilitybill For tips on sending fax or email, visit toronto.ca/propertytaxesandutilities.\\n\\n## Inquiry and Payment Counters\\n\\nIn-person counter services at civic centres and City Hall are available in accordance with public health guidelines. To find the hours of operation and locations visit toronto.ca/inquirypaymentcounters.\\n\\n## Tax \\\\& Utility Answers\\n\\nFind answers to your most commonly asked questions at toronto.ca/taxutilityanswers.\\n\\n## Water\\n\\nVisit toronto.ca/water or call 311 for the following:\\n\\n- report water-related emergencies (broken watermain)\\n- water supply problems (low pressure, rusty/discoloured water)\\n- receive water efficiency program information\\n\\n\\n## Solid Waste\\n\\nVisit toronto.ca/waste or call 311 to:\\n\\n- request a new organic bin, recycle bin or garbage bin\\n- exchange or repair an existing bin\\n- request a collection schedule\\n- receive information on solid waste programs\\n\\n\\n## Contact 311 for General Information\\n\\nInformation on City services and programs is available 24 hours a day, 7 days a week:\\n\\nCall within city limits: 311\\nCall outside city limits: 416-392-CITY (2489)\\nTTY: 416-338-0TTY (0889) FAX: 416-338-0685\\nEMAIL: 311@toronto.ca VISIT: toronto.ca/311\\nNon-emergency police matters, call 416-808-2222 or visit torontopolice.on.ca/core.\\nCall 911 for emergencies, where people or property are at immediate risk.',\n",
       "   'images': [],\n",
       "   'dimensions': {'dpi': 200, 'height': 2800, 'width': 1700}},\n",
       "  {'index': 2,\n",
       "   'markdown': '# Water/Sewer Services\\n\\n|  Meter | Dial | Current | Current | Previous | Previous |   |\\n| --- | --- | --- | --- | --- | --- | --- |\\n|  Number |  | Date | Reading | Date | Reading |   |\\n|  70267881 | Large | 07/31/2022 | 84213.45 | 06/30/2022 | 83401.82 | 811.63  |\\n|   | Small |  | 5993.42 |  | 4835.11 | 1158.31  |\\n|  Number of days this period: 31 |  |  |  |  | Total Consumption (m3): | 1969.94  |\\n\\n2022 Consumption: 1969.94 m3 X \\\\$4.4827/m3 = \\\\$8,830.65 Total Water/Sewer Services - Current Billing \\\\$8,830.65\\n\\n## Summary of Total Adjustments\\n\\n|  Date | Type | Amount  |\\n| --- | --- | --- |\\n|  Aug 18/22 | Processing Fee for Backflow Test Report | $\\\\$ 59.02$  |\\n|  Total |  | $\\\\$ 59.02$  |',\n",
       "   'images': [],\n",
       "   'dimensions': {'dpi': 200, 'height': 2800, 'width': 1700}},\n",
       "  {'index': 3,\n",
       "   'markdown': '## PRE-AUTHORIZED PROGRAM INFORMATION\\n\\nDo not send payment. Amounts due are withdrawn automatically from your financial institution.\\n\\n## To Change Banking Information or to Cancel Enrolment\\n\\nRefer to Applications \\\\& Deadlines at toronto.ca/utilitybill to obtain a Change/Cancellation form.\\n\\n- Send in a written request or complete the Change/ Cancellation form at least 15 days before the next withdrawal date.\\n- Send a copy of void cheque for change of banking information. Line of credit accounts and credit card cheques are not accepted.\\n- When cancelling enrolment, pay any outstanding balance in full by the due date to avoid losing the early payment discount.\\nSubmit your request or completed form to:\\nMail to: City of Toronto\\nBox 2510, Terminal A\\nToronto, ON M5W 1H2\\nFax: $\\\\quad 416-696-4219$\\nFor tips on faxing, visit\\ntoronto.ca/propertytaxesandutilities.\\n\\n\\n## Final Meter Read\\n\\nA final meter read cancels enrolment in the pre-authorized payment program.\\nOnce a final meter read is processed, your enrolment in the program stops. You will receive a regular utility bill and payment must be made by one of the alternative payment options by the due date.\\n\\n## FEES AND CHARGES\\n\\nIf your pre-authorized payment does not clear through your financial institution/bank account, you will be charged an administrative fee and will lose your early payment discount. You will also be automatically removed from the Pre-Authorized Utility Payment Program and be returned to the regular payment plan. Payment must be made by one of the alternative payment options. Visit toronto.ca/utilitybill for bill payment options, information on utility bill fees, solid waste management fees and other associated charges.\\n\\n## RELIEF PROGRAMS\\n\\n## Property Tax, Water and Solid Waste\\n\\nFor low-income seniors and low-income persons with disabilities who own a residential property. Learn more at toronto.ca/taxandutilityrelief.\\n\\n## Home Dialysis Water Rebate Program\\n\\nFor persons undergoing home dialysis treatment. Find out more by visiting toronto.ca/utilitybill and refer to Utility Billing Cycle \\\\& Programs.\\n\\n## Home Healthcare Waste\\n\\nFree collection of dialysis medical waste. To learn how to apply go to toronto.ca/homehealthcarewaste for information.\\n\\n## CONTACT US\\n\\nCall 311 - Tax \\\\& Utility Inquiry Line\\nMonday to Friday 8:30 a.m. to 4:30 p.m.\\nCall within city limits: 311\\nCall outside city limits: 416-392-CITY (2489)\\nTTY: 416-338-0TTY (0889)\\nFAX: 416-696-3605\\nMAIL: City of Toronto, Revenue Services Correspondence Unit 5100 Yonge Street, Toronto, ON M2N 5V7\\nEMAIL: utilitybill@toronto.ca VISIT: toronto.ca/utilitybill For tips on sending fax or email, visit toronto.ca/propertytaxesandutilities.\\n\\n## Inquiry and Payment Counters\\n\\nIn-person counter services at civic centres and City Hall are available in accordance with public health guidelines. To find the hours of operation and locations visit toronto.ca/inquirypaymentcounters.\\n\\n## Tax \\\\& Utility Answers\\n\\nFind answers to your most commonly asked questions at toronto.ca/taxutilityanswers.\\n\\n## Water\\n\\nVisit toronto.ca/water or call 311 for the following:\\n\\n- report water-related emergencies (broken watermain)\\n- water supply problems (low pressure, rusty/discoloured water)\\n- receive water efficiency program information\\n\\n\\n## Solid Waste\\n\\nVisit toronto.ca/waste or call 311 to:\\n\\n- request a new organic bin, recycle bin or garbage bin\\n- exchange or repair an existing bin\\n- request a collection schedule\\n- receive information on solid waste programs\\n\\n\\n## Contact 311 for General Information\\n\\nInformation on City services and programs is available 24 hours a day, 7 days a week:\\n\\nCall within city limits: 311\\nCall outside city limits: 416-392-CITY (2489)\\nTTY: 416-338-0TTY (0889) FAX: 416-338-0685\\nEMAIL: 311@toronto.ca VISIT: toronto.ca/311\\nNon-emergency police matters, call 416-808-2222 or visit torontopolice.on.ca/core.\\nCall 911 for emergencies, where people or property are at immediate risk.',\n",
       "   'images': [],\n",
       "   'dimensions': {'dpi': 200, 'height': 2800, 'width': 1700}}],\n",
       " 'model': 'mistral-ocr-2505-completion',\n",
       " 'usage_info': {'pages_processed': 4, 'doc_size_bytes': 446627},\n",
       " 'document_annotation': None}"
      ]
     },
     "execution_count": 46,
     "metadata": {},
     "output_type": "execute_result"
    }
   ],
   "source": [
    "response.model_dump()"
   ]
  },
  {
   "cell_type": "code",
   "execution_count": null,
   "id": "ca82e3e8",
   "metadata": {},
   "outputs": [],
   "source": [
    "def display_base64_image(base64_string):\n",
    "    \"\"\"Display base64 image, handling data URL prefixes\"\"\"\n",
    "    try:\n",
    "        # Remove data URL prefix if present\n",
    "        if base64_string.startswith('data:image'):\n",
    "            base64_string = base64_string.split(',')[1]\n",
    "        \n",
    "        # Decode base64\n",
    "        image_data = base64.b64decode(base64_string)\n",
    "        \n",
    "        # Open as PIL Image\n",
    "        pil_image = Image.open(BytesIO(image_data))\n",
    "        \n",
    "        # Display\n",
    "        display(pil_image)\n",
    "        return pil_image\n",
    "        \n",
    "    except Exception as e:\n",
    "        print(f\"Error displaying image: {e}\")\n",
    "        return None"
   ]
  },
  {
   "cell_type": "code",
   "execution_count": null,
   "id": "59ac709b",
   "metadata": {},
   "outputs": [
    {
     "ename": "AttributeError",
     "evalue": "'OCRResponse' object has no attribute 'response'",
     "output_type": "error",
     "traceback": [
      "\u001b[31m---------------------------------------------------------------------------\u001b[39m",
      "\u001b[31mAttributeError\u001b[39m                            Traceback (most recent call last)",
      "\u001b[36mCell\u001b[39m\u001b[36m \u001b[39m\u001b[32mIn[65]\u001b[39m\u001b[32m, line 5\u001b[39m\n\u001b[32m      2\u001b[39m \u001b[38;5;28;01mfrom\u001b[39;00m\u001b[38;5;250m \u001b[39m\u001b[34;01mio\u001b[39;00m\u001b[38;5;250m \u001b[39m\u001b[38;5;28;01mimport\u001b[39;00m BytesIO\n\u001b[32m      3\u001b[39m \u001b[38;5;28;01mfrom\u001b[39;00m\u001b[38;5;250m \u001b[39m\u001b[34;01mIPython\u001b[39;00m\u001b[34;01m.\u001b[39;00m\u001b[34;01mdisplay\u001b[39;00m\u001b[38;5;250m \u001b[39m\u001b[38;5;28;01mimport\u001b[39;00m display\n\u001b[32m----> \u001b[39m\u001b[32m5\u001b[39m \u001b[38;5;28;01mfor\u001b[39;00m page \u001b[38;5;129;01min\u001b[39;00m \u001b[43mocr_response\u001b[49m\u001b[43m.\u001b[49m\u001b[43mresponse\u001b[49m.pages:\n\u001b[32m      6\u001b[39m     \u001b[38;5;28;01mfor\u001b[39;00m image \u001b[38;5;129;01min\u001b[39;00m page.images:\n\u001b[32m      7\u001b[39m         display_base64_image(image.image_base64)\n",
      "\u001b[36mFile \u001b[39m\u001b[32m~/development/work/bill-parser/.venv/lib/python3.13/site-packages/pydantic/main.py:991\u001b[39m, in \u001b[36mBaseModel.__getattr__\u001b[39m\u001b[34m(self, item)\u001b[39m\n\u001b[32m    988\u001b[39m     \u001b[38;5;28;01mreturn\u001b[39;00m \u001b[38;5;28msuper\u001b[39m().\u001b[34m__getattribute__\u001b[39m(item)  \u001b[38;5;66;03m# Raises AttributeError if appropriate\u001b[39;00m\n\u001b[32m    989\u001b[39m \u001b[38;5;28;01melse\u001b[39;00m:\n\u001b[32m    990\u001b[39m     \u001b[38;5;66;03m# this is the current error\u001b[39;00m\n\u001b[32m--> \u001b[39m\u001b[32m991\u001b[39m     \u001b[38;5;28;01mraise\u001b[39;00m \u001b[38;5;167;01mAttributeError\u001b[39;00m(\u001b[33mf\u001b[39m\u001b[33m'\u001b[39m\u001b[38;5;132;01m{\u001b[39;00m\u001b[38;5;28mtype\u001b[39m(\u001b[38;5;28mself\u001b[39m).\u001b[34m__name__\u001b[39m\u001b[38;5;132;01m!r}\u001b[39;00m\u001b[33m object has no attribute \u001b[39m\u001b[38;5;132;01m{\u001b[39;00mitem\u001b[38;5;132;01m!r}\u001b[39;00m\u001b[33m'\u001b[39m)\n",
      "\u001b[31mAttributeError\u001b[39m: 'OCRResponse' object has no attribute 'response'"
     ]
    }
   ],
   "source": [
    "from PIL import Image\n",
    "from io import BytesIO\n",
    "from IPython.display import display\n",
    "\n",
    "for page in ocr_response.response.pages:\n",
    "    for image in page.images:\n",
    "        display_base64_image(image.image_base64)\n",
    "  "
   ]
  }
 ],
 "metadata": {
  "kernelspec": {
   "display_name": "bill-parser",
   "language": "python",
   "name": "python3"
  },
  "language_info": {
   "codemirror_mode": {
    "name": "ipython",
    "version": 3
   },
   "file_extension": ".py",
   "mimetype": "text/x-python",
   "name": "python",
   "nbconvert_exporter": "python",
   "pygments_lexer": "ipython3",
   "version": "3.13.5"
  }
 },
 "nbformat": 4,
 "nbformat_minor": 5
}
