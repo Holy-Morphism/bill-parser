{
 "cells": [
  {
   "cell_type": "code",
   "execution_count": 2,
   "id": "9c542247",
   "metadata": {},
   "outputs": [],
   "source": [
    "import base64\n",
    "import os\n",
    "from mistralai import Mistral\n",
    "\n",
    "def encode_pdf(pdf_path):\n",
    "    \"\"\"Encode the pdf to base64.\"\"\"\n",
    "    try:\n",
    "        with open(pdf_path, \"rb\") as pdf_file:\n",
    "            return base64.b64encode(pdf_file.read()).decode('utf-8')\n",
    "    except FileNotFoundError:\n",
    "        print(f\"Error: The file {pdf_path} was not found.\")\n",
    "        return None\n",
    "    except Exception as e:  # Added general exception handling\n",
    "        print(f\"Error: {e}\")\n",
    "        return None\n",
    "\n",
    "\n",
    "\n",
    "api_key = os.environ[\"MISTRAL_API_KEY\"]\n",
    "client = Mistral(api_key=api_key)\n",
    "\n"
   ]
  },
  {
   "cell_type": "code",
   "execution_count": 4,
   "id": "f55a2a39",
   "metadata": {},
   "outputs": [],
   "source": [
    "from pydantic import BaseModel, Field\n",
    "from typing import Optional\n",
    "\n",
    "\n",
    "class Date(BaseModel):\n",
    "    day: int = Field(\n",
    "        ...,\n",
    "        description=\"The number of day of the month of the date, can range from 1 to 31\",\n",
    "    )\n",
    "    month: int = Field(\n",
    "        ...,\n",
    "        description=\"The number of month of the year of the date, can range from 1 to 12\",\n",
    "    )\n",
    "    year: int = Field(..., description=\"The year of the date\")\n",
    "\n",
    "\n",
    "class Bill(BaseModel):\n",
    "    previous_date: Date = Field(\n",
    "        ..., description=\"The previous date of the bill reading e.g. 2022-06-30\"\n",
    "    )\n",
    "    current_date: Date = Field(\n",
    "        ..., description=\"The current date of the bill e.g. 03-01-2023  \"\n",
    "    )\n",
    "    consumption: float = Field(\n",
    "        ..., description=\"The total consumption of water in m3, e.g. 2268.89 \"\n",
    "    )\n",
    "    total_bill: float = Field(\n",
    "        ..., description=\"The total current bill of water, e.g. $10,475.69 \"\n",
    "    )\n",
    "    sewage: Optional[float] = Field(None, description=\"The sewage amount if available\")\n",
    "    bill_no: str = Field(..., description=\"The serial number of the bill\")\n",
    "\n"
   ]
  },
  {
   "cell_type": "code",
   "execution_count": null,
   "id": "7971be7e",
   "metadata": {},
   "outputs": [],
   "source": [
    "\n",
    "encoded_bills = []\n",
    "for i in range(10):\n",
    "\n",
    "    base64_pdf = encode_pdf(f\"tests/data/test{i+1}.pdf\")\n",
    "    encoded_bills.append(base64_pdf)\n",
    "   "
   ]
  },
  {
   "cell_type": "code",
   "execution_count": 32,
   "id": "5fd86a47",
   "metadata": {},
   "outputs": [],
   "source": [
    "import json\n",
    "from mistralai.extra import response_format_from_pydantic_model\n",
    "\n",
    "def create_batch_file(encode_bills, output_file):\n",
    "\n",
    "    document_annotation_format = {\n",
    "        \"type\": \"json_schema\",\n",
    "        \"json_schema\": {\n",
    "            \"name\": \"Bill\",\n",
    "            \"description\": \"Water bill extraction schema\",\n",
    "            \"schema\": Bill.model_json_schema(),\n",
    "            \"strict\": True\n",
    "        }\n",
    "    }    \n",
    "    with open(output_file, \"w\") as file:\n",
    "        for index, encode_bill in enumerate(encode_bills):\n",
    "            entry = {\n",
    "                \"custom_id\": str(index),\n",
    "                \"body\": {\n",
    "                    \"document\": {\n",
    "                        \"type\": \"document_url\",\n",
    "                        \"document_url\": f\"data:application/pdf;base64,{encode_bill}\",\n",
    "                    },\n",
    "                    \"document_annotation_format\": document_annotation_format\n",
    "                },\n",
    "            }\n",
    "            file.write(json.dumps(entry) + \"\\n\")\n"
   ]
  },
  {
   "cell_type": "code",
   "execution_count": 33,
   "id": "de587a64",
   "metadata": {},
   "outputs": [],
   "source": [
    "    batch_file = \"batch_file.jsonl\"\n",
    "    create_batch_file(encoded_bills, batch_file)"
   ]
  },
  {
   "cell_type": "code",
   "execution_count": 34,
   "id": "6242c140",
   "metadata": {},
   "outputs": [],
   "source": [
    "batch_data = client.files.upload(\n",
    "    file={\n",
    "        \"file_name\": batch_file,\n",
    "        \"content\": open(batch_file, \"rb\")},\n",
    "    purpose = \"batch\"\n",
    ")"
   ]
  },
  {
   "cell_type": "code",
   "execution_count": 35,
   "id": "63e18c10",
   "metadata": {},
   "outputs": [
    {
     "ename": "SDKError",
     "evalue": "API error occurred: Status 402\n{\"detail\": \"You cannot launch batch jobs this big with your free trial. Reduce the number of steps in your configuration or subscribe via the console.\"}",
     "output_type": "error",
     "traceback": [
      "\u001b[31m---------------------------------------------------------------------------\u001b[39m",
      "\u001b[31mSDKError\u001b[39m                                  Traceback (most recent call last)",
      "\u001b[36mCell\u001b[39m\u001b[36m \u001b[39m\u001b[32mIn[35]\u001b[39m\u001b[32m, line 2\u001b[39m\n\u001b[32m      1\u001b[39m ocr_model = \u001b[33m\"\u001b[39m\u001b[33mmistral-ocr-latest\u001b[39m\u001b[33m\"\u001b[39m\n\u001b[32m----> \u001b[39m\u001b[32m2\u001b[39m created_job = \u001b[43mclient\u001b[49m\u001b[43m.\u001b[49m\u001b[43mbatch\u001b[49m\u001b[43m.\u001b[49m\u001b[43mjobs\u001b[49m\u001b[43m.\u001b[49m\u001b[43mcreate\u001b[49m\u001b[43m(\u001b[49m\n\u001b[32m      3\u001b[39m \u001b[43m    \u001b[49m\u001b[43minput_files\u001b[49m\u001b[43m=\u001b[49m\u001b[43m[\u001b[49m\u001b[43mbatch_data\u001b[49m\u001b[43m.\u001b[49m\u001b[43mid\u001b[49m\u001b[43m]\u001b[49m\u001b[43m,\u001b[49m\n\u001b[32m      4\u001b[39m \u001b[43m    \u001b[49m\u001b[43mmodel\u001b[49m\u001b[43m=\u001b[49m\u001b[43mocr_model\u001b[49m\u001b[43m,\u001b[49m\n\u001b[32m      5\u001b[39m \u001b[43m    \u001b[49m\u001b[43mendpoint\u001b[49m\u001b[43m=\u001b[49m\u001b[33;43m\"\u001b[39;49m\u001b[33;43m/v1/ocr\u001b[39;49m\u001b[33;43m\"\u001b[39;49m\u001b[43m,\u001b[49m\n\u001b[32m      6\u001b[39m \u001b[43m    \u001b[49m\u001b[43mmetadata\u001b[49m\u001b[43m=\u001b[49m\u001b[43m{\u001b[49m\u001b[33;43m\"\u001b[39;49m\u001b[33;43mjob_type\u001b[39;49m\u001b[33;43m\"\u001b[39;49m\u001b[43m:\u001b[49m\u001b[43m \u001b[49m\u001b[33;43m\"\u001b[39;49m\u001b[33;43mtesting\u001b[39;49m\u001b[33;43m\"\u001b[39;49m\u001b[43m}\u001b[49m\n\u001b[32m      7\u001b[39m \u001b[43m)\u001b[49m\n",
      "\u001b[36mFile \u001b[39m\u001b[32m~/development/work/bill-parser/.venv/lib/python3.13/site-packages/mistralai/mistral_jobs.py:328\u001b[39m, in \u001b[36mMistralJobs.create\u001b[39m\u001b[34m(self, input_files, endpoint, model, metadata, timeout_hours, retries, server_url, timeout_ms, http_headers)\u001b[39m\n\u001b[32m    326\u001b[39m \u001b[38;5;28;01mif\u001b[39;00m utils.match_response(http_res, \u001b[33m\"\u001b[39m\u001b[33m4XX\u001b[39m\u001b[33m\"\u001b[39m, \u001b[33m\"\u001b[39m\u001b[33m*\u001b[39m\u001b[33m\"\u001b[39m):\n\u001b[32m    327\u001b[39m     http_res_text = utils.stream_to_text(http_res)\n\u001b[32m--> \u001b[39m\u001b[32m328\u001b[39m     \u001b[38;5;28;01mraise\u001b[39;00m models.SDKError(\n\u001b[32m    329\u001b[39m         \u001b[33m\"\u001b[39m\u001b[33mAPI error occurred\u001b[39m\u001b[33m\"\u001b[39m, http_res.status_code, http_res_text, http_res\n\u001b[32m    330\u001b[39m     )\n\u001b[32m    331\u001b[39m \u001b[38;5;28;01mif\u001b[39;00m utils.match_response(http_res, \u001b[33m\"\u001b[39m\u001b[33m5XX\u001b[39m\u001b[33m\"\u001b[39m, \u001b[33m\"\u001b[39m\u001b[33m*\u001b[39m\u001b[33m\"\u001b[39m):\n\u001b[32m    332\u001b[39m     http_res_text = utils.stream_to_text(http_res)\n",
      "\u001b[31mSDKError\u001b[39m: API error occurred: Status 402\n{\"detail\": \"You cannot launch batch jobs this big with your free trial. Reduce the number of steps in your configuration or subscribe via the console.\"}"
     ]
    }
   ],
   "source": [
    "ocr_model = \"mistral-ocr-latest\"\n",
    "created_job = client.batch.jobs.create(\n",
    "    input_files=[batch_data.id],\n",
    "    model=ocr_model,\n",
    "    endpoint=\"/v1/ocr\",\n",
    "    metadata={\"job_type\": \"testing\"}\n",
    ")"
   ]
  },
  {
   "cell_type": "code",
   "execution_count": null,
   "id": "445a989d",
   "metadata": {},
   "outputs": [],
   "source": [
    "import time\n",
    "from IPython.display import clear_output\n",
    "\n",
    "while retrieved_job.status in [\"QUEUED\", \"RUNNING\"]:\n",
    "    retrieved_job = client.batch.jobs.get(job_id=created_job.id)\n",
    "\n",
    "    clear_output(wait=True)  # Clear the previous output ( User Friendly )\n",
    "    print(f\"Status: {retrieved_job.status}\")\n",
    "    print(f\"Total requests: {retrieved_job.total_requests}\")\n",
    "    print(f\"Failed requests: {retrieved_job.failed_requests}\")\n",
    "    print(f\"Successful requests: {retrieved_job.succeeded_requests}\")\n",
    "    print(\n",
    "        f\"Percent done: {round((retrieved_job.succeeded_requests + retrieved_job.failed_requests) / retrieved_job.total_requests, 4) * 100}%\"\n",
    "    )\n",
    "    time.sleep(2)"
   ]
  }
 ],
 "metadata": {
  "kernelspec": {
   "display_name": "bill-parser",
   "language": "python",
   "name": "python3"
  },
  "language_info": {
   "codemirror_mode": {
    "name": "ipython",
    "version": 3
   },
   "file_extension": ".py",
   "mimetype": "text/x-python",
   "name": "python",
   "nbconvert_exporter": "python",
   "pygments_lexer": "ipython3",
   "version": "3.13.5"
  }
 },
 "nbformat": 4,
 "nbformat_minor": 5
}
